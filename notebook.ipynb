{
 "cells": [
  {
   "attachments": {},
   "cell_type": "markdown",
   "metadata": {},
   "source": [
    "# Exploratory Data Analysis - Lab\n",
    "\n",
    "## 🔍 Overview\n",
    "The lab is designed to be self-guided, providing solutions for each exercise to check your work and assist if you get stuck. However, it is important to first attempt to solve the problem on your own as this is the best way to learn. If you become stuck, don't give up and seek help from the instructor, peers, or even a search engine like Google. Be mindful that not all answers from a search engine may be correct, so use your judgement to determine the validity of the information. Remember, the best way to learn is to try solving the problem yourself first.\n",
    "\n",
    "This lab is designed to help you practice exploratory data analysis using Python. You will work with one dataset: auto-mpg. You will use various data visualization and analysis techniques to gain insights and identify patterns in the data, and clean and preprocess the data to make it more suitable for analysis.\n",
    "\n",
    "## 🎯 Objectives\n",
    "By the end of this lab, you should be able to:\n",
    "\n",
    "- Load and preprocess data using Python libraries such as pandas\n",
    "- Clean and preprocess the data to make it more suitable for analysis\n",
    "- Use visualization techniques to explore and understand the distribution of the variables in the data\n",
    "- Apply basic statistical analysis to derive insights from the data\n",
    "- Communicate your findings through clear and effective data visualizations and summaries"
   ]
  },
  {
   "attachments": {},
   "cell_type": "markdown",
   "metadata": {},
   "source": [
    "#### Package Imports\n",
    "We will keep coming back to this cell to add \"import\" statements, and configure libraries as we need"
   ]
  },
  {
   "cell_type": "code",
   "execution_count": 55,
   "metadata": {},
   "outputs": [],
   "source": [
    "import pandas as pd\n",
    "from scipy.stats import trim_mean\n",
    "\n",
    "# Configure pandas to display 500 rows; otherwise it will truncate the output\n",
    "pd.set_option('display.max_rows', 500)\n",
    "\n",
    "# To plot pretty figures\n",
    "%matplotlib inline\n",
    "import matplotlib as mpl\n",
    "import matplotlib.pyplot as plt\n",
    "mpl.rc('axes', labelsize=14)\n",
    "mpl.rc('xtick', labelsize=12)\n",
    "mpl.rc('ytick', labelsize=12)\n",
    "plt.style.use(\"bmh\")"
   ]
  },
  {
   "attachments": {},
   "cell_type": "markdown",
   "metadata": {},
   "source": [
    "## Auto-MPG Data\n",
    "This dataset is licensed under a Creative Commons Attribution 4.0 International (CC BY 4.0) license.\n",
    "\n",
    "[Dataset Source](https://archive.ics.uci.edu/ml/datasets/auto+mpg)"
   ]
  },
  {
   "attachments": {},
   "cell_type": "markdown",
   "metadata": {},
   "source": [
    "### Exercise 1:  Load the dataset\n",
    "You've had plenty of exercise in doing this. Load the dataset into a pandas dataframe.\n",
    "\n",
    "The dataset is available in the `data/auto-mpg.data` file. Check the file to determine the delimiter and/or the appropriate pandas method to use to load the data.\n",
    "\n",
    "Make sure you name the variable `auto_mpg_df` and that you use the appropriate pandas method to load the data."
   ]
  },
  {
   "cell_type": "code",
   "execution_count": 56,
   "metadata": {},
   "outputs": [
    {
     "name": "stderr",
     "output_type": "stream",
     "text": [
      "/var/folders/07/kjr5_wdx6tj218z3xdfcgvjw0000gn/T/ipykernel_90098/4244366636.py:4: ParserWarning: Falling back to the 'python' engine because the 'c' engine does not support regex separators (separators > 1 char and different from '\\s+' are interpreted as regex); you can avoid this warning by specifying engine='python'.\n",
      "  auto_mpg_df = pd.read_csv('/Users/marymungai/Documents/GitHub/exploratory-data-analysis-mungaiwm/exploenv/auto-mpg.csv', sep=\"\\,\")\n"
     ]
    }
   ],
   "source": [
    "import pandas as pd\n",
    "\n",
    "# Load the dataset into a pandas dataframe\n",
    "auto_mpg_df = pd.read_csv('/Users/marymungai/Documents/GitHub/exploratory-data-analysis-mungaiwm/exploenv/auto-mpg.csv', sep=\"\\,\")\n",
    "\n",
    "\n"
   ]
  },
  {
   "attachments": {},
   "cell_type": "markdown",
   "metadata": {},
   "source": [
    "<details>\n",
    "  <summary>💡 Solution</summary>\n",
    "\n",
    "  ```python\n",
    "    auto_mpg_df = pd.read_table('./data/auto-mpg/auto-mpg.data', sep=\"\\t\")\n",
    "  ```\n",
    "</details>\n"
   ]
  },
  {
   "attachments": {},
   "cell_type": "markdown",
   "metadata": {},
   "source": [
    "### Exercise 2: Confirm the data loaded correctly\n",
    "Generally, after any data import, we need to make sure we got the data imported correctly. This is especially true when we're working with data that we didn't create ourselves.\n",
    "\n",
    "One way this can be achieved is to print/display the dataframe. but this can be problematic if the dataframe is large.\n",
    "\n",
    "Let's explore a few different ways.\n",
    "\n",
    "#### 2.1: Display the <u>first</u> 5 rows of the dataframe\n"
   ]
  },
  {
   "cell_type": "code",
   "execution_count": 57,
   "metadata": {},
   "outputs": [
    {
     "name": "stdout",
     "output_type": "stream",
     "text": [
      "    mpg  cylinders  displacement horsepower  weight  acceleration  model year  \\\n",
      "0  18.0          8         307.0        130    3504          12.0          70   \n",
      "1  15.0          8         350.0        165    3693          11.5          70   \n",
      "2  18.0          8         318.0        150    3436          11.0          70   \n",
      "3  16.0          8         304.0        150    3433          12.0          70   \n",
      "4  17.0          8         302.0        140    3449          10.5          70   \n",
      "\n",
      "   origin                   car name  \n",
      "0       1  chevrolet chevelle malibu  \n",
      "1       1          buick skylark 320  \n",
      "2       1         plymouth satellite  \n",
      "3       1              amc rebel sst  \n",
      "4       1                ford torino  \n"
     ]
    }
   ],
   "source": [
    "\n",
    "# Display the first few rows of the dataframe to confirm it's loaded correctly\n",
    "print(auto_mpg_df.head(5))"
   ]
  },
  {
   "attachments": {},
   "cell_type": "markdown",
   "metadata": {},
   "source": [
    "<details>\n",
    "  <summary>💡 Solution</summary>\n",
    "\n",
    "  ```python\n",
    "  auto_mpg_df.head()\n",
    "  # or \n",
    "  # auto_mpg_df.head(5)\n",
    "  # or \n",
    "  # auto_mpg_df.head(n=5) \n",
    "  # or \n",
    "  # auto_mpg_df[:5] \n",
    "  # or \n",
    "  # auto_mpg_df.iloc[:5] \n",
    "  # or \n",
    "  # auto_mpg_df.iloc[0:5] \n",
    "  # or \n",
    "  # auto_mpg_df.iloc[[0,1,2,3,4]] \n",
    "  ```\n",
    "</details>"
   ]
  },
  {
   "attachments": {},
   "cell_type": "markdown",
   "metadata": {},
   "source": [
    "#### 2.2: Display the <u>last</u> 5 rows of the dataframe"
   ]
  },
  {
   "cell_type": "code",
   "execution_count": 58,
   "metadata": {},
   "outputs": [
    {
     "name": "stdout",
     "output_type": "stream",
     "text": [
      "      mpg  cylinders  displacement horsepower  weight  acceleration  \\\n",
      "393  27.0          4         140.0         86    2790          15.6   \n",
      "394  44.0          4          97.0         52    2130          24.6   \n",
      "395  32.0          4         135.0         84    2295          11.6   \n",
      "396  28.0          4         120.0         79    2625          18.6   \n",
      "397  31.0          4         119.0         82    2720          19.4   \n",
      "\n",
      "     model year  origin         car name  \n",
      "393          82       1  ford mustang gl  \n",
      "394          82       2        vw pickup  \n",
      "395          82       1    dodge rampage  \n",
      "396          82       1      ford ranger  \n",
      "397          82       1       chevy s-10  \n"
     ]
    }
   ],
   "source": [
    "\n",
    "# Display the first few rows of the dataframe to confirm it's loaded correctly\n",
    "print(auto_mpg_df.tail(5))"
   ]
  },
  {
   "attachments": {},
   "cell_type": "markdown",
   "metadata": {},
   "source": [
    "<details>\n",
    "  <summary>💡 Solution</summary>\n",
    "\n",
    "  ```python\n",
    "  auto_mpg_df.tail()\n",
    "```\n",
    "</details>"
   ]
  },
  {
   "attachments": {},
   "cell_type": "markdown",
   "metadata": {},
   "source": [
    "#### 2.3: Display <u>random</u> 5 rows of the dataframe\n",
    "just viewing the first and last records may not be enough. We may want to see some random records to make sure we have the data we expect."
   ]
  },
  {
   "cell_type": "code",
   "execution_count": 59,
   "metadata": {},
   "outputs": [
    {
     "name": "stdout",
     "output_type": "stream",
     "text": [
      "      mpg  cylinders  displacement horsepower  weight  acceleration  \\\n",
      "359  28.1          4         141.0         80    3230          20.4   \n",
      "333  32.7          6         168.0        132    2910          11.4   \n",
      "341  23.5          6         173.0        110    2725          12.6   \n",
      "30   28.0          4         140.0         90    2264          15.5   \n",
      "211  16.5          6         168.0        120    3820          16.7   \n",
      "\n",
      "     model year  origin                   car name  \n",
      "359          81       2  peugeot 505s turbo diesel  \n",
      "333          80       3              datsun 280-zx  \n",
      "341          81       1         chevrolet citation  \n",
      "30           71       1        chevrolet vega 2300  \n",
      "211          76       2         mercedes-benz 280s  \n"
     ]
    }
   ],
   "source": [
    "# Display the random 5 rows of the dataframe\n",
    "print(auto_mpg_df.sample(5))\n"
   ]
  },
  {
   "attachments": {},
   "cell_type": "markdown",
   "metadata": {},
   "source": [
    "<details>\n",
    "  <summary>💡 Solution</summary>\n",
    "\n",
    "  ```python\n",
    "  auto_mpg_df.sample(5)\n",
    "```\n",
    "</details>"
   ]
  },
  {
   "cell_type": "markdown",
   "metadata": {},
   "source": [
    "> 🚩 This is a good point to commit your code to your repository."
   ]
  },
  {
   "attachments": {},
   "cell_type": "markdown",
   "metadata": {},
   "source": [
    "### Exercise 3: Dataset Metadata\n",
    "Now that we've confirmed the data loaded correctly, let's take a look at the metadata for the dataset.\n",
    "\n",
    "#### 3.1: Display the number of rows and columns in the dataframe"
   ]
  },
  {
   "cell_type": "code",
   "execution_count": 60,
   "metadata": {},
   "outputs": [
    {
     "name": "stdout",
     "output_type": "stream",
     "text": [
      "(398, 9)\n"
     ]
    }
   ],
   "source": [
    "\n",
    "#Display the number of rows and columns in the dataframe\n",
    "print(auto_mpg_df.shape)    \n"
   ]
  },
  {
   "attachments": {},
   "cell_type": "markdown",
   "metadata": {},
   "source": [
    "<details>\n",
    "  <summary>💡 Solution</summary>\n",
    "\n",
    "  ```python\n",
    "  auto_mpg_df.shape\n",
    "```\n",
    "</details>"
   ]
  },
  {
   "attachments": {},
   "cell_type": "markdown",
   "metadata": {},
   "source": [
    "#### 3.2: Display a summary about the dataframe\n"
   ]
  },
  {
   "cell_type": "code",
   "execution_count": 61,
   "metadata": {},
   "outputs": [
    {
     "name": "stdout",
     "output_type": "stream",
     "text": [
      "<class 'pandas.core.frame.DataFrame'>\n",
      "RangeIndex: 398 entries, 0 to 397\n",
      "Data columns (total 9 columns):\n",
      " #   Column        Non-Null Count  Dtype  \n",
      "---  ------        --------------  -----  \n",
      " 0   mpg           398 non-null    float64\n",
      " 1   cylinders     398 non-null    int64  \n",
      " 2   displacement  398 non-null    float64\n",
      " 3   horsepower    398 non-null    object \n",
      " 4   weight        398 non-null    int64  \n",
      " 5   acceleration  398 non-null    float64\n",
      " 6   model year    398 non-null    int64  \n",
      " 7   origin        398 non-null    int64  \n",
      " 8   car name      398 non-null    object \n",
      "dtypes: float64(3), int64(4), object(2)\n",
      "memory usage: 28.1+ KB\n",
      "None\n"
     ]
    }
   ],
   "source": [
    "#Display a summary about the dataframe\n",
    "print(auto_mpg_df.info())"
   ]
  },
  {
   "attachments": {},
   "cell_type": "markdown",
   "metadata": {},
   "source": [
    "\n",
    "<details>\n",
    "  <summary>💡 Solution</summary>\n",
    "\n",
    "  ```python\n",
    "  auto_mpg_df.info()\n",
    "```\n",
    "</details>"
   ]
  },
  {
   "attachments": {},
   "cell_type": "markdown",
   "metadata": {},
   "source": [
    "### 3.3: Display the statistics for the dataframe"
   ]
  },
  {
   "cell_type": "code",
   "execution_count": 62,
   "metadata": {},
   "outputs": [
    {
     "name": "stdout",
     "output_type": "stream",
     "text": [
      "              mpg   cylinders  displacement       weight  acceleration  \\\n",
      "count  398.000000  398.000000    398.000000   398.000000    398.000000   \n",
      "mean    23.514573    5.454774    193.425879  2970.424623     15.568090   \n",
      "std      7.815984    1.701004    104.269838   846.841774      2.757689   \n",
      "min      9.000000    3.000000     68.000000  1613.000000      8.000000   \n",
      "25%     17.500000    4.000000    104.250000  2223.750000     13.825000   \n",
      "50%     23.000000    4.000000    148.500000  2803.500000     15.500000   \n",
      "75%     29.000000    8.000000    262.000000  3608.000000     17.175000   \n",
      "max     46.600000    8.000000    455.000000  5140.000000     24.800000   \n",
      "\n",
      "       model year      origin  \n",
      "count  398.000000  398.000000  \n",
      "mean    76.010050    1.572864  \n",
      "std      3.697627    0.802055  \n",
      "min     70.000000    1.000000  \n",
      "25%     73.000000    1.000000  \n",
      "50%     76.000000    1.000000  \n",
      "75%     79.000000    2.000000  \n",
      "max     82.000000    3.000000  \n"
     ]
    }
   ],
   "source": [
    "#Display the statistics for the dataframe\n",
    "print(auto_mpg_df.describe())"
   ]
  },
  {
   "attachments": {},
   "cell_type": "markdown",
   "metadata": {},
   "source": [
    "<details>\n",
    "  <summary>💡 Solution </summary>\n",
    "  \n",
    "  ```python\n",
    "  auto_mpg_df.describe()\n",
    "  ```\n",
    "</details>"
   ]
  },
  {
   "attachments": {},
   "cell_type": "markdown",
   "metadata": {},
   "source": [
    "> 🚩 This is a good point to commit your code to your repository."
   ]
  },
  {
   "attachments": {},
   "cell_type": "markdown",
   "metadata": {},
   "source": [
    "### Exercise 4: Data Cleaning: Checking for Duplicate Records"
   ]
  },
  {
   "attachments": {},
   "cell_type": "markdown",
   "metadata": {},
   "source": [
    "#### 4.1: Count the number of exact duplicate records in the dataset\n",
    "\n",
    "<details>\n",
    "  <summary>🦉 Hints</summary>\n",
    "\n",
    "  - The `duplicated()` method can be used to check for duplicate records.\n",
    "  - This method returns a boolean series indicating whether a record is a duplicate or not.\n",
    "  - You'll need to chain some other method to provide a count of the duplicate records.\n",
    "\n",
    "</details>"
   ]
  },
  {
   "cell_type": "code",
   "execution_count": 63,
   "metadata": {},
   "outputs": [
    {
     "name": "stdout",
     "output_type": "stream",
     "text": [
      "0\n"
     ]
    }
   ],
   "source": [
    "#Count the number of exact duplicate records in the dataset\n",
    "print(auto_mpg_df.duplicated().sum())"
   ]
  },
  {
   "attachments": {},
   "cell_type": "markdown",
   "metadata": {},
   "source": [
    "\n",
    "<details>\n",
    "  <summary>💡 Solution</summary>\n",
    "\n",
    "  ```python\n",
    "  auto_mpg_df.duplicated().sum()\n",
    "```\n",
    "</details>"
   ]
  },
  {
   "attachments": {},
   "cell_type": "markdown",
   "metadata": {},
   "source": [
    "#### 4.2: Show the duplicate records\n",
    "using the results of the duplicated() method as a predicate to filter the dataframe, displaying the duplicate records. "
   ]
  },
  {
   "cell_type": "code",
   "execution_count": 64,
   "metadata": {},
   "outputs": [
    {
     "name": "stdout",
     "output_type": "stream",
     "text": [
      "Empty DataFrame\n",
      "Columns: [mpg, cylinders, displacement, horsepower, weight, acceleration, model year, origin, car name]\n",
      "Index: []\n"
     ]
    }
   ],
   "source": [
    "#Show the duplicate records\n",
    "print(auto_mpg_df[auto_mpg_df.duplicated()])"
   ]
  },
  {
   "attachments": {},
   "cell_type": "markdown",
   "metadata": {},
   "source": [
    "\n",
    "<details>\n",
    "  <summary>💡 Solution</summary>\n",
    "\n",
    "  ```python\n",
    "  auto_mpg_df[\n",
    "    auto_mpg_df.duplicated()\n",
    "]\n",
    "```\n",
    "</details>"
   ]
  },
  {
   "attachments": {},
   "cell_type": "markdown",
   "metadata": {},
   "source": [
    "#### 4.3: Count the number of duplicate records in the dataset, based on a subset of columns\n",
    "To be fair, in this exact context, it doesn't really make sense to check for duplicate records based on a subset of columns (or maybe it does). However, we'll do that for the sake of practice.\n",
    "\n",
    "Let's check for duplicate records based on the `mpg`, `cylinders`, `acceleration`, and `origin` columns.\n",
    "\n",
    "<details>\n",
    "  <summary>🦉 Hints</summary>\n",
    "  \n",
    "  - You can specify a subset of columns to check for duplicates by passing a list of column names to the `subset` parameter.\n",
    "</details>"
   ]
  },
  {
   "cell_type": "code",
   "execution_count": 65,
   "metadata": {},
   "outputs": [
    {
     "name": "stdout",
     "output_type": "stream",
     "text": [
      "0\n"
     ]
    }
   ],
   "source": [
    "#Count the number of duplicate records in the dataset, based on a subset of columns\n",
    "print(auto_mpg_df.duplicated(subset=['mpg', 'cylinders', 'displacement', 'horsepower', 'weight', 'acceleration', 'model year', 'origin']).sum())"
   ]
  },
  {
   "attachments": {},
   "cell_type": "markdown",
   "metadata": {},
   "source": [
    "\n",
    "<details>\n",
    "  <summary>💡 Solution</summary>\n",
    "\n",
    "  ```python\n",
    "  auto_mpg_df.duplicated(\n",
    "    subset=['mpg', 'cylinders', 'acceleration', 'origin']\n",
    ").sum()\n",
    "```\n",
    "</details>"
   ]
  },
  {
   "attachments": {},
   "cell_type": "markdown",
   "metadata": {},
   "source": [
    "### Exercise 5: Data Cleaning: Dropping Duplicate Records\n",
    "#### 5.1: Drop the duplicate records\n",
    "Now that we've confirmed that there are duplicate records in the dataset, let's remove them. using the `drop_duplicates()` method.\n",
    "\n",
    "\n",
    "<details>\n",
    "  <summary>🦉 Hints</summary>\n",
    "\n",
    "  - The `drop_duplicates()` method can be used to remove duplicate records.\n",
    "  - Make sure you either save the results of the method to a new variable, or use the `inplace` parameter to update the dataframe in place.\n",
    "</details>"
   ]
  },
  {
   "cell_type": "code",
   "execution_count": 66,
   "metadata": {},
   "outputs": [],
   "source": [
    "#Drop the duplicate records\n",
    "auto_mpg_df.drop_duplicates(inplace=True)\n"
   ]
  },
  {
   "attachments": {},
   "cell_type": "markdown",
   "metadata": {},
   "source": [
    "\n",
    "<details>\n",
    "  <summary>💡 Solution</summary>\n",
    "\n",
    "  ```python\n",
    "  auto_mpg_df.drop_duplicates(inplace=True)\n",
    "```\n",
    "</details>"
   ]
  },
  {
   "attachments": {},
   "cell_type": "markdown",
   "metadata": {},
   "source": [
    "#### 5.2: Confirm that the duplicate records were removed\n",
    "Check the number of records in the dataframe to confirm that the duplicates were removed."
   ]
  },
  {
   "cell_type": "code",
   "execution_count": 67,
   "metadata": {},
   "outputs": [
    {
     "name": "stdout",
     "output_type": "stream",
     "text": [
      "0\n"
     ]
    }
   ],
   "source": [
    "#Confirm that the duplicate records were removed\n",
    "print(auto_mpg_df.duplicated().sum())"
   ]
  },
  {
   "attachments": {},
   "cell_type": "markdown",
   "metadata": {},
   "source": [
    "<details>\n",
    "  <summary>💡 Solution</summary>\n",
    "\n",
    "  ```python\n",
    "    auto_mpg_df.shape\n",
    "  ```\n",
    "</details>"
   ]
  },
  {
   "attachments": {},
   "cell_type": "markdown",
   "metadata": {},
   "source": [
    "### Exercise 6: Data Cleaning: Checking for Missing Values\n",
    "#### 6.1: Use `info()` to check for missing values"
   ]
  },
  {
   "cell_type": "code",
   "execution_count": 68,
   "metadata": {},
   "outputs": [
    {
     "name": "stdout",
     "output_type": "stream",
     "text": [
      "mpg             0\n",
      "cylinders       0\n",
      "displacement    0\n",
      "horsepower      0\n",
      "weight          0\n",
      "acceleration    0\n",
      "model year      0\n",
      "origin          0\n",
      "car name        0\n",
      "dtype: int64\n"
     ]
    }
   ],
   "source": [
    "#Count the number of missing values in each column\n",
    "print(auto_mpg_df.isnull().sum())"
   ]
  },
  {
   "cell_type": "raw",
   "metadata": {
    "vscode": {
     "languageId": "raw"
    }
   },
   "source": [
    "How many and what are the missing records? ANSWER HERE\n",
    "Missing value  record 203"
   ]
  },
  {
   "attachments": {},
   "cell_type": "markdown",
   "metadata": {},
   "source": [
    "#### 6.2: Use `isna()` to check for missing values\n",
    "\n",
    "<details>\n",
    "  <summary>🦉 Hints</summary>\n",
    "\n",
    "  - The `isna()` method can be used to check for missing values.\n",
    "  - This method returns a boolean dataframe indicating whether a cell in the dataframe is missing or not.\n",
    "  - You'll need to chain some other method to provide a count of the missing records.\n",
    "\n",
    "</details>"
   ]
  },
  {
   "cell_type": "code",
   "execution_count": 69,
   "metadata": {},
   "outputs": [
    {
     "name": "stdout",
     "output_type": "stream",
     "text": [
      "mpg             0\n",
      "cylinders       0\n",
      "displacement    0\n",
      "horsepower      0\n",
      "weight          0\n",
      "acceleration    0\n",
      "model year      0\n",
      "origin          0\n",
      "car name        0\n",
      "dtype: int64\n"
     ]
    }
   ],
   "source": [
    "#Use `isna()` to check for missing values\n",
    "print(auto_mpg_df.isna().sum())"
   ]
  },
  {
   "attachments": {},
   "cell_type": "markdown",
   "metadata": {},
   "source": [
    "<details>\n",
    "  <summary>💡 Solution</summary>\n",
    "\n",
    "  ```python\n",
    "    auto_mpg_df.isna().sum()\n",
    "  ```\n",
    "</details>"
   ]
  },
  {
   "attachments": {},
   "cell_type": "markdown",
   "metadata": {},
   "source": [
    "#### 6.3: Use `isnull()` to check for missing values\n",
    "<details>\n",
    "  <summary>🦉 Hints</summary>\n",
    "\n",
    "  - The `isnull()` method can be used to check for missing values.\n",
    "  - This method returns a boolean dataframe indicating whether a cell in the dataframe is missing or not.\n",
    "  - You'll need to chain some other method to provide a count of the missing records.\n",
    "\n",
    "</details>"
   ]
  },
  {
   "cell_type": "code",
   "execution_count": 70,
   "metadata": {},
   "outputs": [
    {
     "name": "stdout",
     "output_type": "stream",
     "text": [
      "mpg             0\n",
      "cylinders       0\n",
      "displacement    0\n",
      "horsepower      0\n",
      "weight          0\n",
      "acceleration    0\n",
      "model year      0\n",
      "origin          0\n",
      "car name        0\n",
      "dtype: int64\n"
     ]
    }
   ],
   "source": [
    "#Use `isnull()` to check for missing values\n",
    "print(auto_mpg_df.isnull().sum())"
   ]
  },
  {
   "attachments": {},
   "cell_type": "markdown",
   "metadata": {},
   "source": [
    "#### What's the difference between `isna()` and `isnull()`? what's your source?"
   ]
  },
  {
   "attachments": {},
   "cell_type": "markdown",
   "metadata": {},
   "source": [
    "<details>\n",
    "  <summary>💡 Solution</summary>\n",
    "\n",
    "  ```python\n",
    "    auto_mpg_df.isnull().sum()\n",
    "  ```\n",
    "</details>"
   ]
  },
  {
   "cell_type": "raw",
   "metadata": {
    "vscode": {
     "languageId": "raw"
    }
   },
   "source": [
    "ANSWER HERE\n",
    "They do the same thing, they check for the missing value in your data."
   ]
  },
  {
   "attachments": {},
   "cell_type": "markdown",
   "metadata": {},
   "source": [
    "### Exercise 7: Data Cleaning: Dropping Missing Values\n",
    "\n",
    "#### 7.1: Drop the missing values of the `mpg` column\n",
    "Now that we've confirmed that there are missing values in the dataset, let's remove them. using the `dropna()` method.\n",
    "\n",
    "Depending on the context, and on the project you're working on, you may want to drop the missing values, or you may want to replace them with a some value. \n",
    "\n",
    "In working with the `auto_mpg` dataset, we'll develop a model to predict the `mpg` of a car based on the other features. So, we'll drop the missing values from the `mpg` column.\n",
    "\n",
    "<details>\n",
    "  <summary>🦉 Hints</summary>\n",
    "\n",
    "  - Use the subset parameter to specify the column(s) to check for missing values.\n",
    "  - Either save the results of the method to a new variable, or use the `inplace` parameter to update the dataframe in place.\n",
    "\n",
    "</details>"
   ]
  },
  {
   "cell_type": "code",
   "execution_count": 72,
   "metadata": {},
   "outputs": [],
   "source": [
    "#Drop the missing values of the `mpg` column\n",
    "auto_mpg_df.dropna(subset=['mpg'], inplace=True)"
   ]
  },
  {
   "attachments": {},
   "cell_type": "markdown",
   "metadata": {},
   "source": [
    "<details>\n",
    "  <summary>💡 Solution</summary>\n",
    "\n",
    "  ```python\n",
    "    auto_mpg_df.dropna(\n",
    "      subset=['mpg'],\n",
    "      inplace=True\n",
    "    )\n",
    "  ```\n",
    "</details>"
   ]
  },
  {
   "attachments": {},
   "cell_type": "markdown",
   "metadata": {},
   "source": [
    "#### 7.2: Confirm that the missing values in `mpg` were removed"
   ]
  },
  {
   "cell_type": "code",
   "execution_count": 73,
   "metadata": {},
   "outputs": [
    {
     "name": "stdout",
     "output_type": "stream",
     "text": [
      "mpg             0\n",
      "cylinders       0\n",
      "displacement    0\n",
      "horsepower      0\n",
      "weight          0\n",
      "acceleration    0\n",
      "model year      0\n",
      "origin          0\n",
      "car name        0\n",
      "dtype: int64\n"
     ]
    }
   ],
   "source": [
    "#Confirm that the missing values in `mpg` were removed\n",
    "print(auto_mpg_df.isna().sum())"
   ]
  },
  {
   "attachments": {},
   "cell_type": "markdown",
   "metadata": {},
   "source": [
    "<details>\n",
    "  <summary>💡 Solution</summary>\n",
    "\n",
    "  ```python\n",
    "    auto_mpg_df.isna().sum()\n",
    "  ```\n",
    "</details>"
   ]
  },
  {
   "attachments": {},
   "cell_type": "markdown",
   "metadata": {},
   "source": [
    "### Exercise 8: Data Cleaning: Replacing Missing Values\n",
    "Before we can determine what's the best value to replace the missing values with for the `horsepower` column, we need to understand the distribution of the values in that column."
   ]
  },
  {
   "attachments": {},
   "cell_type": "markdown",
   "metadata": {},
   "source": [
    "#### 8.1: Display the distribution of the values in the `horsepower` column\n",
    "Plot a 40-bins histogram of the values in the `horsepower` column.\n",
    "\n",
    "\n",
    "<details>\n",
    "  <summary>🦉 Hints</summary>\n",
    "\n",
    "  - The `plot.hist()` method can be used to plot a histogram.\n",
    "  - You can also use the `plot()` method with the `kind` parameter set to `hist` directly on the dataframe.\n",
    "  - The `%matplotlib inline` magic command is required to display the plot in the notebook. (Already done for you on the top cell of the notebook)\n",
    "\n",
    "</details>\n"
   ]
  },
  {
   "cell_type": "code",
   "execution_count": 75,
   "metadata": {},
   "outputs": [
    {
     "name": "stdout",
     "output_type": "stream",
     "text": [
      "horsepower\n",
      "150    22\n",
      "90     20\n",
      "88     19\n",
      "110    18\n",
      "100    17\n",
      "95     14\n",
      "75     14\n",
      "105    12\n",
      "70     12\n",
      "67     12\n",
      "65     10\n",
      "97      9\n",
      "85      9\n",
      "140     7\n",
      "145     7\n",
      "80      7\n",
      "78      6\n",
      "92      6\n",
      "?       6\n",
      "72      6\n",
      "68      6\n",
      "84      6\n",
      "180     5\n",
      "175     5\n",
      "115     5\n",
      "71      5\n",
      "86      5\n",
      "60      5\n",
      "170     5\n",
      "130     5\n",
      "76      4\n",
      "120     4\n",
      "83      4\n",
      "52      4\n",
      "165     4\n",
      "63      3\n",
      "48      3\n",
      "125     3\n",
      "69      3\n",
      "112     3\n",
      "215     3\n",
      "225     3\n",
      "190     3\n",
      "74      3\n",
      "96      3\n",
      "198     2\n",
      "53      2\n",
      "98      2\n",
      "79      2\n",
      "155     2\n",
      "62      2\n",
      "153     2\n",
      "46      2\n",
      "87      2\n",
      "160     2\n",
      "129     2\n",
      "81      2\n",
      "139     2\n",
      "58      2\n",
      "220     1\n",
      "210     1\n",
      "193     1\n",
      "113     1\n",
      "200     1\n",
      "93      1\n",
      "148     1\n",
      "49      1\n",
      "230     1\n",
      "61      1\n",
      "107     1\n",
      "94      1\n",
      "137     1\n",
      "158     1\n",
      "54      1\n",
      "208     1\n",
      "167     1\n",
      "91      1\n",
      "122     1\n",
      "149     1\n",
      "89      1\n",
      "108     1\n",
      "102     1\n",
      "152     1\n",
      "133     1\n",
      "66      1\n",
      "103     1\n",
      "142     1\n",
      "135     1\n",
      "138     1\n",
      "77      1\n",
      "132     1\n",
      "64      1\n",
      "116     1\n",
      "82      1\n",
      "Name: count, dtype: int64\n"
     ]
    }
   ],
   "source": [
    "#Display the distribution of the values in the `horsepower` column\n",
    "print(auto_mpg_df['horsepower'].value_counts())\n",
    "# Convert the 'horsepower' column to numeric, coercing errors to NaN\n",
    "auto_mpg_df['horsepower'] = pd.to_numeric(auto_mpg_df['horsepower'], errors='coerce')"
   ]
  },
  {
   "attachments": {},
   "cell_type": "markdown",
   "metadata": {},
   "source": [
    "<details>\n",
    "  <summary>💡 Solution</summary>\n",
    "\n",
    "  ```python\n",
    "    auto_mpg_df['horsepower'].plot.hist(bins=40)\n",
    "    plt.show()\n",
    "  ```\n",
    "  OR\n",
    "  ```python\n",
    "    auto_mpg_df['horsepower'].plot(kind=\"hist\", bins= 40)\n",
    "    plt.show()\n",
    "  ```\n",
    "  OR\n",
    "  ```python\n",
    "    auto_mpg_df.plot(y='horsepower', kind=\"hist\", bins= 40)\n",
    "    plt.show()\n",
    "  ```\n",
    "  OR\n",
    "  ```python\n",
    "    auto_mpg_df.plot.hist(y='horsepower', bins= 40)\n",
    "    plt.show()\n",
    "  ```\n",
    "  OR \n",
    "  ```python\n",
    "    plt.hist(auto_mpg_df['horsepower'], bins=40)\n",
    "    plt.show()\n",
    "  ```\n",
    "</details>"
   ]
  },
  {
   "attachments": {},
   "cell_type": "markdown",
   "metadata": {},
   "source": [
    "#### 8.2: Calculate the mean, median, and trimmed mean for the `horsepower` column\n",
    "\n",
    "<details>\n",
    "  <summary>🦉 Hints</summary>\n",
    "\n",
    "  - The `mean()` method can be used to calculate the mean of a column.\n",
    "  - The `median()` method can be used to calculate the median of a column.\n",
    "  - You'll need to use the scipy library to calculate the trimmed mean.\n",
    "</details>"
   ]
  },
  {
   "cell_type": "code",
   "execution_count": 82,
   "metadata": {},
   "outputs": [
    {
     "name": "stdout",
     "output_type": "stream",
     "text": [
      "Mean horsepower: 104.46938775510205\n",
      "Median horsepower: 93.5\n",
      "Trimmed mean horsepower: 99.81847133757962\n"
     ]
    }
   ],
   "source": [
    "# Calculate the mean of the 'horsepower' column\n",
    "mean_horsepower = auto_mpg_df['horsepower'].mean()\n",
    "print(f\"Mean horsepower: {mean_horsepower}\")\n",
    "\n",
    "# Calculate the median of the 'horsepower' column\n",
    "median_horsepower = auto_mpg_df['horsepower'].median()\n",
    "print(f\"Median horsepower: {median_horsepower}\")\n",
    "\n",
    "# Calculate the trimmed mean of the 'horsepower' column (trimming 10% from each end)\n",
    "trimmed_mean_horsepower = trim_mean(auto_mpg_df['horsepower'].dropna(), proportiontocut=0.1)\n",
    "print(f\"Trimmed mean horsepower: {trimmed_mean_horsepower}\")"
   ]
  },
  {
   "attachments": {},
   "cell_type": "markdown",
   "metadata": {},
   "source": [
    "<details>\n",
    "  <summary>💡 Solution</summary>\n",
    "\n",
    "  ```python\n",
    "    from scipy.stats import trim_mean\n",
    "    ...\n",
    "    horsepower_mean = auto_mpg_df['horsepower'].mean()\n",
    "    horsepower_median = auto_mpg_df['horsepower'].median()\n",
    "    horsepower_trimmed_mean = trim_mean(auto_mpg_df['horsepower'], 0.1)\n",
    "  ```\n",
    "</details>"
   ]
  },
  {
   "attachments": {},
   "cell_type": "markdown",
   "metadata": {},
   "source": [
    "#### 8.3: Display the central tendency measures on the distribution plot"
   ]
  },
  {
   "cell_type": "code",
   "execution_count": 83,
   "metadata": {},
   "outputs": [
    {
     "data": {
      "image/png": "[encoded data removed]",
      "text/plain": [
       "<Figure size 800x400 with 1 Axes>"
      ]
     },
     "metadata": {},
     "output_type": "display_data"
    }
   ],
   "source": [
    "fig, ax = plt.subplots(figsize = (8,4))\n",
    "\n",
    "auto_mpg_df['horsepower'].plot(kind=\"hist\", density= True, bins=40, alpha = 0.65)\n",
    "auto_mpg_df['horsepower'].plot(kind=\"kde\")\n",
    "\n",
    "ax.axvline(mean_horsepower, alpha = 0.8, linestyle = \":\")\n",
    "ax.axvline(median_horsepower, alpha = 0.8, linestyle = \":\")\n",
    "ax.axvline(trimmed_mean_horsepower, alpha = 0.8, linestyle = \":\")\n",
    "\n",
    "# ax.set_yticklabels([])\n",
    "ax.set_ylabel(\"\")\n",
    "\n",
    "ax.text(mean_horsepower-.1, .01, \"Mean\", size = 10, alpha = 0.8)\n",
    "ax.text(median_horsepower-.4, .0075, \"Median\", size = 10, alpha = 0.8)\n",
    "ax.text(trimmed_mean_horsepower+.4, .0050, \"Trimmed Mean\", size = 10, alpha = 0.8)\n",
    "\n",
    "ax.tick_params(left = False, bottom = False)\n",
    "for ax, spine in ax.spines.items():\n",
    "    spine.set_visible(False)\n",
    "\n",
    "plt.show()"
   ]
  },
  {
   "attachments": {},
   "cell_type": "markdown",
   "metadata": {},
   "source": [
    "#### 8.4: Replace the missing values in the `horsepower` column with the median value"
   ]
  },
  {
   "cell_type": "code",
   "execution_count": null,
   "metadata": {},
   "outputs": [
    {
     "name": "stdout",
     "output_type": "stream",
     "text": [
      "    mpg  cylinders  displacement  horsepower  weight  acceleration  \\\n",
      "0  18.0          8         307.0       130.0    3504          12.0   \n",
      "1  15.0          8         350.0       165.0    3693          11.5   \n",
      "2  18.0          8         318.0       150.0    3436          11.0   \n",
      "3  16.0          8         304.0       150.0    3433          12.0   \n",
      "4  17.0          8         302.0       140.0    3449          10.5   \n",
      "\n",
      "   model year  origin                   car name  \n",
      "0          70       1  chevrolet chevelle malibu  \n",
      "1          70       1          buick skylark 320  \n",
      "2          70       1         plymouth satellite  \n",
      "3          70       1              amc rebel sst  \n",
      "4          70       1                ford torino  \n"
     ]
    }
   ],
   "source": [
    "# Replace missing values in the 'horsepower' column with the median value\n",
    "auto_mpg_df['horsepower'].fillna(median_horsepower, inplace=True)\n",
    "\n",
    "# Display the first few rows of the dataframe to confirm the changes\n",
    "print(auto_mpg_df.head())"
   ]
  },
  {
   "attachments": {},
   "cell_type": "markdown",
   "metadata": {},
   "source": [
    "<details>\n",
    "  <summary>💡 Solution</summary>\n",
    "\n",
    "  ```python\n",
    "    auto_mpg_df['horsepower'].fillna(horsepower_median, inplace=True)\n",
    "  ```\n",
    "</details>"
   ]
  },
  {
   "attachments": {},
   "cell_type": "markdown",
   "metadata": {},
   "source": [
    "#### 8.5: Confirm that the missing values in `horsepower` were replaced"
   ]
  },
  {
   "cell_type": "code",
   "execution_count": 93,
   "metadata": {},
   "outputs": [
    {
     "name": "stdout",
     "output_type": "stream",
     "text": [
      "mpg             0\n",
      "cylinders       0\n",
      "displacement    0\n",
      "horsepower      0\n",
      "weight          0\n",
      "acceleration    0\n",
      "model year      0\n",
      "origin          0\n",
      "car name        0\n",
      "dtype: int64\n"
     ]
    }
   ],
   "source": [
    "#Confirm that the missing values in `horsepower` were replaced\n",
    "print(auto_mpg_df.isna().sum())"
   ]
  },
  {
   "attachments": {},
   "cell_type": "markdown",
   "metadata": {},
   "source": [
    "<details>\n",
    "  <summary>💡 Solution</summary>\n",
    "\n",
    "  ```python\n",
    "    auto_mpg_df.isna().sum()\n",
    "  ```\n",
    "</details>"
   ]
  },
  {
   "attachments": {},
   "cell_type": "markdown",
   "metadata": {},
   "source": [
    "### Exercise 9: Data Cleaning: Anomalies and outliers\n",
    "There are many statistical methods to detect outliers in a dataset.\n",
    "1. Interquartile range (IQR) method:\n",
    "  * Covered in the lecture videos\n",
    "  * This method calculates the IQR of the dataset, which is the range between the 25th and 75th percentiles of the data. Data points that are more than a certain multiple of the IQR (e.g., 1.5) away from the 25th or 75th percentile are considered anomalies.\n",
    "2. Z-score method: \n",
    "  * This method calculates the z-score of each data point, which measures how many standard deviations a data point is away from the mean of the dataset. \n",
    "  * Data points that have a z-score greater than a certain threshold (e.g., 3 or 4) are considered anomalies.\n",
    "3. Percentile method: \n",
    "  * This method identifies data points that are in the upper or lower percentiles of the dataset.\n",
    "    * For example, data points that are in the top or bottom 1% of the dataset may be considered anomalies.\n",
    "\n",
    "We will be exploring all 3 methods in this exercise."
   ]
  },
  {
   "attachments": {},
   "cell_type": "markdown",
   "metadata": {},
   "source": [
    "#### 9.1: Display the distribution of the values in the `displacement` column using a box plot"
   ]
  },
  {
   "cell_type": "code",
   "execution_count": 94,
   "metadata": {},
   "outputs": [
    {
     "name": "stdout",
     "output_type": "stream",
     "text": [
      "    mpg  cylinders  displacement  horsepower  weight  acceleration  \\\n",
      "0  18.0          8         307.0       130.0    3504          12.0   \n",
      "1  15.0          8         350.0       165.0    3693          11.5   \n",
      "2  18.0          8         318.0       150.0    3436          11.0   \n",
      "3  16.0          8         304.0       150.0    3433          12.0   \n",
      "4  17.0          8         302.0       140.0    3449          10.5   \n",
      "\n",
      "   model year  origin                   car name  \n",
      "0          70       1  chevrolet chevelle malibu  \n",
      "1          70       1          buick skylark 320  \n",
      "2          70       1         plymouth satellite  \n",
      "3          70       1              amc rebel sst  \n",
      "4          70       1                ford torino  \n"
     ]
    }
   ],
   "source": [
    "print(auto_mpg_df.head())"
   ]
  },
  {
   "cell_type": "code",
   "execution_count": 95,
   "metadata": {},
   "outputs": [
    {
     "data": {
      "image/png": "[encoded data removed]",
      "text/plain": [
       "<Figure size 640x480 with 1 Axes>"
      ]
     },
     "metadata": {},
     "output_type": "display_data"
    }
   ],
   "source": [
    "auto_mpg_df['displacement'].plot(kind=\"box\")\n",
    "plt.show()"
   ]
  },
  {
   "attachments": {},
   "cell_type": "markdown",
   "metadata": {},
   "source": [
    "<details>\n",
    "  <summary>💡 Solution</summary>\n",
    "\n",
    "  ```python\n",
    "    auto_mpg_df['displacement'].plot(kind=\"box\")\n",
    "    plt.show()\n",
    "  ```\n",
    "</details>"
   ]
  },
  {
   "attachments": {},
   "cell_type": "markdown",
   "metadata": {},
   "source": [
    "#### 9.2: Calculate the IQR for the `displacement` column\n",
    "* Calculate the range between the 25th and 75th percentiles of the data. (IQR)\n",
    "* Calculate the lower and upper bound of the data. using a 1.5 multiple or the IQR. \n",
    "  * Lower bound = 25th percentile - 1.5 * IQR\n",
    "  * Upper bound = 75th percentile + 1.5 * IQR"
   ]
  },
  {
   "cell_type": "code",
   "execution_count": 96,
   "metadata": {},
   "outputs": [
    {
     "name": "stdout",
     "output_type": "stream",
     "text": [
      "IQR: 157.75\n",
      "Lower bound: -132.375\n",
      "Upper bound: 498.625\n"
     ]
    }
   ],
   "source": [
    "#Calculate the IQR for the `displacement` column\n",
    "Q1 = auto_mpg_df['displacement'].quantile(0.25)\n",
    "Q3 = auto_mpg_df['displacement'].quantile(0.75)\n",
    "IQR = Q3 - Q1\n",
    "print(\"IQR:\", IQR)\n",
    "#Calculate the lower and upper bounds for the `displacement` column\n",
    "lower_bound = Q1 - 1.5 * IQR\n",
    "upper_bound = Q3 + 1.5 * IQR\n",
    "print(\"Lower bound:\", lower_bound)\n",
    "print(\"Upper bound:\", upper_bound)"
   ]
  },
  {
   "attachments": {},
   "cell_type": "markdown",
   "metadata": {},
   "source": [
    "<details>\n",
    "  <summary>💡 Solution</summary>\n",
    "\n",
    "  ```python\n",
    "    q1 = auto_mpg_df['displacement'].quantile(0.25)\n",
    "    q3 = auto_mpg_df['displacement'].quantile(0.75)\n",
    "    iqr = q3 - q1\n",
    "\n",
    "    print(f\"Q1: {q1}, Q3: {q3}, IQR: {iqr}\")\n",
    "\n",
    "    lower_limit = q1 - 1.5 * iqr\n",
    "    upper_limit = q3 + 1.5 * iqr\n",
    "\n",
    "    print(f\"Lower Limit: {lower_limit}, Upper Limit: {upper_limit}\")\n",
    "  ```\n",
    "</details>"
   ]
  },
  {
   "attachments": {},
   "cell_type": "markdown",
   "metadata": {},
   "source": [
    "#### 9.3: Using Pandas filtering, show records that are outliers in the `displacement` column\n",
    "\n",
    "<details>\n",
    "  <summary>🦉 Hints</summary>\n",
    "\n",
    "  - You'll need to provide a predicate for pandas to filter the dataframe.\n",
    "  - You can use the `|` operator to combine multiple conditions in a Pandas filter.\n",
    "</details>"
   ]
  },
  {
   "cell_type": "code",
   "execution_count": 97,
   "metadata": {},
   "outputs": [
    {
     "name": "stdout",
     "output_type": "stream",
     "text": [
      "Outliers:\n",
      "Empty DataFrame\n",
      "Columns: [mpg, cylinders, displacement, horsepower, weight, acceleration, model year, origin, car name]\n",
      "Index: []\n"
     ]
    }
   ],
   "source": [
    "#Using Pandas filtering, show records that are outliers in the `displacement` column\n",
    "outliers = auto_mpg_df[(auto_mpg_df['displacement'] < lower_bound) | (auto_mpg_df['displacement'] > upper_bound)]\n",
    "print(\"Outliers:\")\n",
    "print(outliers)"
   ]
  },
  {
   "attachments": {},
   "cell_type": "markdown",
   "metadata": {},
   "source": [
    "<details>\n",
    "  <summary>💡 Solution</summary>\n",
    "\n",
    "  ```python\n",
    "    auto_mpg_df[\n",
    "      (auto_mpg_df['displacement'] < lower_limit) | (auto_mpg_df['displacement'] > upper_limit)\n",
    "    ]\n",
    "  ```\n",
    "</details>"
   ]
  },
  {
   "attachments": {},
   "cell_type": "markdown",
   "metadata": {},
   "source": [
    "#### 9.4: Calculate the z-score for the `displacement` column\n",
    "* Calculate the mean and standard deviation of the `displacement` column.\n",
    "* Calculate the z-score for each data point in the `displacement` column.\n",
    "  * z-score = (x - mean) / standard deviation"
   ]
  },
  {
   "cell_type": "code",
   "execution_count": 98,
   "metadata": {},
   "outputs": [
    {
     "name": "stdout",
     "output_type": "stream",
     "text": [
      "Mean: 193.42587939698493, Std: 104.26983817119591\n"
     ]
    }
   ],
   "source": [
    "displacement_mean = auto_mpg_df['displacement'].mean()\n",
    "displacement_std = auto_mpg_df['displacement'].std()\n",
    "\n",
    "\n",
    "print(f\"Mean: {displacement_mean}, Std: {displacement_std}\")"
   ]
  },
  {
   "cell_type": "code",
   "execution_count": 99,
   "metadata": {},
   "outputs": [],
   "source": [
    "z_scores = (auto_mpg_df['displacement'] - displacement_mean) / displacement_std"
   ]
  },
  {
   "attachments": {},
   "cell_type": "markdown",
   "metadata": {},
   "source": [
    "<details>\n",
    "  <summary>💡 Solution</summary>\n",
    "\n",
    "  ```python\n",
    "    displacement_mean = auto_mpg_df['displacement'].mean()\n",
    "    displacement_std = auto_mpg_df['displacement'].std()\n",
    "\n",
    "    z_scores = (auto_mpg_df['horsepower'] - displacement_mean) / displacement_std\n",
    "  ```\n",
    "</details>"
   ]
  },
  {
   "attachments": {},
   "cell_type": "markdown",
   "metadata": {},
   "source": [
    "#### 9.5: Using Pandas filtering, show records that are outliers in the `displacement` column using the z-score method"
   ]
  },
  {
   "cell_type": "code",
   "execution_count": 100,
   "metadata": {},
   "outputs": [
    {
     "name": "stdout",
     "output_type": "stream",
     "text": [
      "Outliers:\n",
      "Empty DataFrame\n",
      "Columns: [mpg, cylinders, displacement, horsepower, weight, acceleration, model year, origin, car name]\n",
      "Index: []\n"
     ]
    }
   ],
   "source": [
    "# Filter out the outliers\n",
    "outliers = auto_mpg_df[(z_scores < -3) | (z_scores > 3)]\n",
    "print(\"Outliers:\")\n",
    "print(outliers)\n"
   ]
  },
  {
   "attachments": {},
   "cell_type": "markdown",
   "metadata": {},
   "source": [
    "<details>\n",
    "  <summary>💡 Solution</summary>\n",
    "\n",
    "  ```python\n",
    "    auto_mpg_df[\n",
    "      (z_scores < -3) | (z_scores > 3)\n",
    "    ]\n",
    "  ```\n",
    "</details>"
   ]
  },
  {
   "attachments": {},
   "cell_type": "markdown",
   "metadata": {},
   "source": [
    "#### 9.6: Using Pandas filtering, show records that are outliers in the `displacement` column using the percentile method\n",
    "we'll use a 1% threshold for this exercise."
   ]
  },
  {
   "cell_type": "code",
   "execution_count": 101,
   "metadata": {},
   "outputs": [
    {
     "name": "stdout",
     "output_type": "stream",
     "text": [
      "Outliers:\n",
      "      mpg  cylinders  displacement  horsepower  weight  acceleration  \\\n",
      "6    14.0          8         454.0       220.0    4354           9.0   \n",
      "8    14.0          8         455.0       225.0    4425          10.0   \n",
      "13   14.0          8         455.0       225.0    3086          10.0   \n",
      "71   19.0          3          70.0        97.0    2330          13.5   \n",
      "95   12.0          8         455.0       225.0    4951          11.0   \n",
      "111  18.0          3          70.0        90.0    2124          13.5   \n",
      "117  29.0          4          68.0        49.0    1867          19.5   \n",
      "334  23.7          3          70.0       100.0    2420          12.5   \n",
      "\n",
      "     model year  origin                  car name  \n",
      "6            70       1          chevrolet impala  \n",
      "8            70       1          pontiac catalina  \n",
      "13           70       1   buick estate wagon (sw)  \n",
      "71           72       3           mazda rx2 coupe  \n",
      "95           73       1  buick electra 225 custom  \n",
      "111          73       3                 maxda rx3  \n",
      "117          73       2                  fiat 128  \n",
      "334          80       3             mazda rx-7 gs  \n"
     ]
    }
   ],
   "source": [
    "#Using Pandas filtering, show records that are outliers in the `displacement` column using the percentile method 1%\n",
    "lower_bound = auto_mpg_df['displacement'].quantile(0.01)\n",
    "upper_bound = auto_mpg_df['displacement'].quantile(0.99)\n",
    "outliers = auto_mpg_df[(auto_mpg_df['displacement'] < lower_bound) | (auto_mpg_df['displacement'] > upper_bound)]\n",
    "print(\"Outliers:\")\n",
    "print(outliers)"
   ]
  },
  {
   "attachments": {},
   "cell_type": "markdown",
   "metadata": {},
   "source": [
    "<details>\n",
    "  <summary>💡 Solution</summary>\n",
    "\n",
    "  ```python\n",
    "    quantile_1 = auto_mpg_df['displacement'].quantile(0.01)\n",
    "    quantile_99 = auto_mpg_df['displacement'].quantile(0.99)\n",
    "    auto_mpg_df[\n",
    "      (auto_mpg_df['displacement'] < quantile_1) | (auto_mpg_df['displacement'] > quantile_99)\n",
    "    ]\n",
    "  ```\n",
    "</details>"
   ]
  },
  {
   "attachments": {},
   "cell_type": "markdown",
   "metadata": {},
   "source": [
    "#### 9.7: Display the distribution of the values in the `displacement` column using a histogram"
   ]
  },
  {
   "cell_type": "code",
   "execution_count": 102,
   "metadata": {},
   "outputs": [
    {
     "data": {
      "image/png": "[encoded data removed]",
      "text/plain": [
       "<Figure size 640x480 with 1 Axes>"
      ]
     },
     "metadata": {},
     "output_type": "display_data"
    }
   ],
   "source": [
    "#Display the distribution of the values in the `displacement` column using a histogram\n",
    "auto_mpg_df['displacement'].plot(kind=\"hist\", density= True, bins=40, alpha = 0.65)\n",
    "plt.xlabel(\"Displacement\")\n",
    "plt.ylabel(\"Frequency\")\n",
    "plt.title(\"Distribution of Displacement\")\n",
    "plt.show()"
   ]
  },
  {
   "attachments": {},
   "cell_type": "markdown",
   "metadata": {},
   "source": [
    "<details>\n",
    "  <summary>💡 Solution</summary>\n",
    "\n",
    "  ```python\n",
    "    auto_mpg_df.plot.hist(y='displacement', bins= 40)\n",
    "    plt.show()\n",
    "  ```\n",
    "</details>"
   ]
  },
  {
   "attachments": {},
   "cell_type": "markdown",
   "metadata": {},
   "source": [
    "#### 9.8: On the historgram, display the upper and lower bounds based on the IQR method"
   ]
  },
  {
   "cell_type": "code",
   "execution_count": 103,
   "metadata": {},
   "outputs": [
    {
     "data": {
      "image/png": "[encoded data removed]",
      "text/plain": [
       "<Figure size 640x480 with 1 Axes>"
      ]
     },
     "metadata": {},
     "output_type": "display_data"
    }
   ],
   "source": [
    "bounds = [upper_bound, lower_bound]\n",
    "\n",
    "# Create a histogram of the 'displacement' column\n",
    "plt.hist(auto_mpg_df['displacement'], bins=40)\n",
    "\n",
    "    # Add vertical lines at the percentile values\n",
    "for bound in bounds:\n",
    " plt.axvline(bound, color='r', linestyle='--')\n",
    "\n",
    "plt.show()"
   ]
  },
  {
   "attachments": {},
   "cell_type": "markdown",
   "metadata": {},
   "source": [
    "<details>\n",
    "  <summary>💡 Solution</summary>\n",
    "\n",
    "  ```python\n",
    "    bounds = [upper_limit, lower_limit]\n",
    "\n",
    "    # Create a histogram of the 'displacement' column\n",
    "    plt.hist(auto_mpg_df['displacement'], bins=40)\n",
    "\n",
    "    # Add vertical lines at the percentile values\n",
    "    for bound in bounds:\n",
    "        plt.axvline(bound, color='r', linestyle='--')\n",
    "\n",
    "    plt.show()\n",
    "  ```\n",
    "</details>"
   ]
  },
  {
   "attachments": {},
   "cell_type": "markdown",
   "metadata": {},
   "source": [
    "#### 9.9: Drop the outlier records from the `displacement` column\n",
    "\n",
    "* Don't do this in place, create a new dataframe."
   ]
  },
  {
   "cell_type": "code",
   "execution_count": 104,
   "metadata": {},
   "outputs": [],
   "source": [
    "#Drop the outlier records from the `displacement` column\n",
    "auto_mpg_df = auto_mpg_df[(auto_mpg_df['displacement'] >= lower_bound) & (auto_mpg_df['displacement'] <= upper_bound)]"
   ]
  },
  {
   "attachments": {},
   "cell_type": "markdown",
   "metadata": {},
   "source": [
    "<details>\n",
    "  <summary>💡 Solution</summary>\n",
    "\n",
    "  ```python\n",
    "    without_outliers = auto_mpg_df[\n",
    "      (auto_mpg_df['displacement'] > lower_limit) & (auto_mpg_df['displacement'] < upper_limit)\n",
    "    ]\n",
    "  ```\n",
    "  OR\n",
    "  ```python\n",
    "    without_outliers = auto_mpg_df.drop(\n",
    "      auto_mpg_df[\n",
    "        (auto_mpg_df['displacement'] < lower_limit) | (auto_mpg_df['displacement'] > upper_limit)\n",
    "      ].index\n",
    "    )\n",
    "  ```\n",
    "</details>"
   ]
  },
  {
   "attachments": {},
   "cell_type": "markdown",
   "metadata": {},
   "source": [
    "#### 9.10: Show the shape of the original dataframe and the new dataframe to show that the outliers were dropped\n"
   ]
  },
  {
   "cell_type": "code",
   "execution_count": 105,
   "metadata": {},
   "outputs": [
    {
     "name": "stdout",
     "output_type": "stream",
     "text": [
      "Original shape: (390, 9)\n",
      "New shape: (390, 9)\n"
     ]
    }
   ],
   "source": [
    "#Show the shape of the original dataframe and the new dataframe to show that the outliers were dropped\n",
    "print(\"Original shape:\", auto_mpg_df.shape)\n",
    "print(\"New shape:\", auto_mpg_df.shape)  \n"
   ]
  },
  {
   "attachments": {},
   "cell_type": "markdown",
   "metadata": {},
   "source": [
    "### Exercise 10: Further Exploration\n",
    "\n",
    "<details>\n",
    "  <summary>📊 Data Types Diagram</summary>\n",
    "\n",
    " ![Data types](https://miro.medium.com/max/1400/1*kySPZcf83qLOuaqB1vJxlg.jpeg)\n",
    "</details>"
   ]
  },
  {
   "attachments": {},
   "cell_type": "markdown",
   "metadata": {},
   "source": [
    "#### 10.1: # For each of the 9 columns, Identify the data type: \n",
    "* Numerical-Continuous\n",
    "* Numerical-Discrete\n",
    "* Categorical-Ordinal\n",
    "* Categorical-nominal"
   ]
  },
  {
   "cell_type": "raw",
   "metadata": {
    "vscode": {
     "languageId": "raw"
    }
   },
   "source": [
    "1. mpg:  numerical-Continuous    \n",
    "2. cylinders:numerical-Continuous     \n",
    "3. displacement:  numerical-Discrete\n",
    "4. horsepower:numerical-Continuous    \n",
    "5. weight: numerical-Continuous       \n",
    "6. acceleration: numerical-Continuous \n",
    "7. model year:  Categorical-Ordinal\n",
    "8. origin:Categorical-Nominal        \n",
    "9. car name: Categorical-Nominal   "
   ]
  },
  {
   "attachments": {},
   "cell_type": "markdown",
   "metadata": {},
   "source": [
    "#### 10.2: Show all the possible values for the `origin` column\n",
    "\n",
    "<details>\n",
    "  <summary>🦉 Hints</summary>\n",
    "\n",
    "  - The `value_counts()` method can be used to show the unique values in a column.\n",
    "</details>"
   ]
  },
  {
   "cell_type": "code",
   "execution_count": 106,
   "metadata": {},
   "outputs": [
    {
     "name": "stdout",
     "output_type": "stream",
     "text": [
      "[1 3 2]\n"
     ]
    }
   ],
   "source": [
    "# Show all the possible values for the `origin` column\n",
    "print(auto_mpg_df['origin'].unique())"
   ]
  },
  {
   "attachments": {},
   "cell_type": "markdown",
   "metadata": {},
   "source": [
    "<details>\n",
    "  <summary>💡 Solution</summary>\n",
    "\n",
    "  ```python\n",
    "    auto_mpg_df['origin'].value_counts()\n",
    "  ```\n",
    "</details>"
   ]
  },
  {
   "attachments": {},
   "cell_type": "markdown",
   "metadata": {},
   "source": [
    "**What do the values in the `origin` column represent?**"
   ]
  },
  {
   "cell_type": "raw",
   "metadata": {
    "vscode": {
     "languageId": "raw"
    }
   },
   "source": [
    "It represent the origin of the car in numeric values."
   ]
  },
  {
   "attachments": {},
   "cell_type": "markdown",
   "metadata": {},
   "source": [
    "#### **BONUS**: show a scatter plot of the `horsepower` column vs the `weight` column"
   ]
  },
  {
   "cell_type": "code",
   "execution_count": 107,
   "metadata": {},
   "outputs": [
    {
     "data": {
      "image/png": "[encoded data removed]",
      "text/plain": [
       "<Figure size 640x480 with 1 Axes>"
      ]
     },
     "metadata": {},
     "output_type": "display_data"
    }
   ],
   "source": [
    "# Create a scatter plot of 'horsepower' vs 'weight'\n",
    "plt.scatter(auto_mpg_df['horsepower'], auto_mpg_df['weight'])\n",
    "plt.xlabel('Horsepower')\n",
    "plt.ylabel('Weight')\n",
    "plt.title('Horsepower vs Weight')\n",
    "plt.show()\n"
   ]
  },
  {
   "attachments": {},
   "cell_type": "markdown",
   "metadata": {},
   "source": [
    "## Wrap up\n",
    "Remember to update the self reflection and self evaluations on the `README` file."
   ]
  },
  {
   "cell_type": "markdown",
   "metadata": {},
   "source": [
    "Make sure you run the following cell; this converts this Jupyter notebook to a Python script. and will make the process of reviewing your code on GitHub easier"
   ]
  },
  {
   "cell_type": "code",
   "execution_count": null,
   "metadata": {},
   "outputs": [
    {
     "name": "stdout",
     "output_type": "stream",
     "text": [
      "[NbConvertApp] Converting notebook notebook.ipynb to python\n",
      "[NbConvertApp] Writing 20685 bytes to notebook.py\n"
     ]
    }
   ],
   "source": [
    "# 🦉: The following command converts this Jupyter notebook to a Python script.\n",
    "!jupyter nbconvert --to python notebook.ipynb"
   ]
  },
  {
   "cell_type": "markdown",
   "metadata": {},
   "source": [
    "> 🚩 **Make sure** you save the notebook and make one final commit here"
   ]
  }
 ],
 "metadata": {
  "kernelspec": {
   "display_name": "exploenv",
   "language": "python",
   "name": "python3"
  },
  "language_info": {
   "codemirror_mode": {
    "name": "ipython",
    "version": 3
   },
   "file_extension": ".py",
   "mimetype": "text/x-python",
   "name": "python",
   "nbconvert_exporter": "python",
   "pygments_lexer": "ipython3",
   "version": "3.11.5"
  },
  "orig_nbformat": 4
 },
 "nbformat": 4,
 "nbformat_minor": 2
}
